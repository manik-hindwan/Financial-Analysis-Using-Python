{
 "cells": [
  {
   "cell_type": "code",
   "execution_count": null,
   "metadata": {
    "collapsed": true
   },
   "outputs": [],
   "source": [
    "####### 1. Random variables and outcomes ########"
   ]
  },
  {
   "cell_type": "code",
   "execution_count": 2,
   "metadata": {
    "collapsed": true
   },
   "outputs": [],
   "source": [
    "#importing the packages\n",
    "import pandas as pd\n",
    "import numpy as np"
   ]
  },
  {
   "cell_type": "code",
   "execution_count": null,
   "metadata": {
    "collapsed": true
   },
   "outputs": [],
   "source": [
    "#creating a random variable die and finding its sum in 100 trials and 2 dice are rolled at a time\n",
    "die = pd.DataFrame([1,2,3,4,5,6])\n",
    "trials = 100\n",
    "die_sum = [die.sample(2,replace = True).sum().loc[0] for i in range(trials)]\n",
    "print('The sum in the first 10 trials are',die_sum[:10])"
   ]
  },
  {
   "cell_type": "code",
   "execution_count": null,
   "metadata": {
    "collapsed": true
   },
   "outputs": [],
   "source": [
    "######## 2. Frequency and distribution ##########"
   ]
  },
  {
   "cell_type": "code",
   "execution_count": null,
   "metadata": {
    "collapsed": true
   },
   "outputs": [],
   "source": [
    "#Calculate the frequency of occurance of each sum value using value_counts()\n",
    "freq = pd.DataFrame(die_sum)[0].value_counts()\n",
    "freq_sort = freq.sort_index()\n",
    "print(freq_sort)"
   ]
  },
  {
   "cell_type": "code",
   "execution_count": null,
   "metadata": {
    "collapsed": true
   },
   "outputs": [],
   "source": [
    "#plotting the sorted frequencies in a bar chart\n",
    "import matplotlib.pyplot as plt\n",
    "% matplotlib inline\n",
    "freq_sort.plot(kind = 'bar', color='blue', figsize =(12,6))"
   ]
  },
  {
   "cell_type": "code",
   "execution_count": null,
   "metadata": {
    "collapsed": true
   },
   "outputs": [],
   "source": [
    "#Rescaling the frequency so as to compare the results with different number of trials\n",
    "rel_freq = freq_sort/trials\n",
    "rel_freq.plot(kind ='bar', color= 'blue', figsize = (12,6))"
   ]
  },
  {
   "cell_type": "code",
   "execution_count": null,
   "metadata": {
    "collapsed": true
   },
   "outputs": [],
   "source": [
    "# Let us increase the number of trials to 10000 and see the outcome\n",
    "trials = 10000\n",
    "sum_die = [die.sample(2,replace = True).sum().loc[0] for i in range(trials)]\n",
    "freq2 = pd.DataFrame(sum_die)[0].value_counts()\n",
    "sort_freq2 = freq2.sort_index()\n",
    "sort_freq2.plot(kind='bar', color='blue', figsize=(10,5))"
   ]
  },
  {
   "cell_type": "code",
   "execution_count": null,
   "metadata": {
    "collapsed": true
   },
   "outputs": [],
   "source": [
    "#Relative frequency of the trials\n",
    "rel_freq2 = sort_freq2/trials\n",
    "rel_freq2.plot(kind='bar', color='blue', figsize=(10,5))"
   ]
  },
  {
   "cell_type": "code",
   "execution_count": 5,
   "metadata": {},
   "outputs": [
    {
     "name": "stdout",
     "output_type": "stream",
     "text": [
      "        Prob\n",
      "2   0.027778\n",
      "3   0.055556\n",
      "4   0.083333\n",
      "5   0.111111\n",
      "6   0.138889\n",
      "7   0.166667\n",
      "8   0.138889\n",
      "9   0.111111\n",
      "10  0.083333\n",
      "11  0.055556\n",
      "12  0.027778\n"
     ]
    }
   ],
   "source": [
    "#Now let us check what is an expectation and variance of a distribution\n",
    "#Firstly, assuming a fair dice, let us create a distribution\n",
    "\n",
    "fairdie = pd.DataFrame(index=[2,3,4,5,6,7,8,9,10,11,12])\n",
    "fairdie['Prob'] = [1,2,3,4,5,6,5,4,3,2,1]\n",
    "fairdie['Prob'] = fairdie['Prob']/36\n",
    "print(fairdie)"
   ]
  },
  {
   "cell_type": "code",
   "execution_count": null,
   "metadata": {
    "collapsed": true
   },
   "outputs": [],
   "source": [
    "fairdie = pd.DataFrame([1,2,3,4,5,6])\n",
    "t = 100\n",
    "summed = [fairdie.sample(2,replace = True).sum()"
   ]
  }
 ],
 "metadata": {
  "kernelspec": {
   "display_name": "Python 3",
   "language": "python",
   "name": "python3"
  },
  "language_info": {
   "codemirror_mode": {
    "name": "ipython",
    "version": 3
   },
   "file_extension": ".py",
   "mimetype": "text/x-python",
   "name": "python",
   "nbconvert_exporter": "python",
   "pygments_lexer": "ipython3",
   "version": "3.6.2"
  }
 },
 "nbformat": 4,
 "nbformat_minor": 2
}
